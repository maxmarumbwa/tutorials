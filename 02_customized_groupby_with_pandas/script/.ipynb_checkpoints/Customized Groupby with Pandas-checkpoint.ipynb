{
 "cells": [
  {
   "cell_type": "code",
   "execution_count": 1,
   "metadata": {},
   "outputs": [],
   "source": [
    "import os\n",
    "import re\n",
    "import pandas as pd\n",
    "import numpy as np"
   ]
  },
  {
   "cell_type": "code",
   "execution_count": 2,
   "metadata": {},
   "outputs": [
    {
     "name": "stdout",
     "output_type": "stream",
     "text": [
      "id data type: object\n"
     ]
    },
    {
     "data": {
      "text/html": [
       "<div>\n",
       "<style scoped>\n",
       "    .dataframe tbody tr th:only-of-type {\n",
       "        vertical-align: middle;\n",
       "    }\n",
       "\n",
       "    .dataframe tbody tr th {\n",
       "        vertical-align: top;\n",
       "    }\n",
       "\n",
       "    .dataframe thead th {\n",
       "        text-align: right;\n",
       "    }\n",
       "</style>\n",
       "<table border=\"1\" class=\"dataframe\">\n",
       "  <thead>\n",
       "    <tr style=\"text-align: right;\">\n",
       "      <th></th>\n",
       "      <th>id</th>\n",
       "      <th>color</th>\n",
       "      <th>quality</th>\n",
       "      <th>sales_dt</th>\n",
       "      <th>unit</th>\n",
       "      <th>price</th>\n",
       "    </tr>\n",
       "  </thead>\n",
       "  <tbody>\n",
       "    <tr>\n",
       "      <th>0</th>\n",
       "      <td>01</td>\n",
       "      <td>blue</td>\n",
       "      <td>good</td>\n",
       "      <td>2018-09-01</td>\n",
       "      <td>10.0</td>\n",
       "      <td>30.0</td>\n",
       "    </tr>\n",
       "    <tr>\n",
       "      <th>1</th>\n",
       "      <td>02</td>\n",
       "      <td>green</td>\n",
       "      <td>good</td>\n",
       "      <td>2018-01-27</td>\n",
       "      <td>5.0</td>\n",
       "      <td>20.0</td>\n",
       "    </tr>\n",
       "    <tr>\n",
       "      <th>2</th>\n",
       "      <td>03</td>\n",
       "      <td>red</td>\n",
       "      <td>NaN</td>\n",
       "      <td>NaT</td>\n",
       "      <td>NaN</td>\n",
       "      <td>NaN</td>\n",
       "    </tr>\n",
       "    <tr>\n",
       "      <th>3</th>\n",
       "      <td>04</td>\n",
       "      <td>red</td>\n",
       "      <td>bad</td>\n",
       "      <td>2018-01-27</td>\n",
       "      <td>2.0</td>\n",
       "      <td>5.0</td>\n",
       "    </tr>\n",
       "    <tr>\n",
       "      <th>4</th>\n",
       "      <td>05</td>\n",
       "      <td>red</td>\n",
       "      <td>good</td>\n",
       "      <td>2018-09-01</td>\n",
       "      <td>10.0</td>\n",
       "      <td>20.0</td>\n",
       "    </tr>\n",
       "    <tr>\n",
       "      <th>5</th>\n",
       "      <td>06</td>\n",
       "      <td>blue</td>\n",
       "      <td>bad</td>\n",
       "      <td>2018-05-06</td>\n",
       "      <td>6.0</td>\n",
       "      <td>10.0</td>\n",
       "    </tr>\n",
       "    <tr>\n",
       "      <th>6</th>\n",
       "      <td>07</td>\n",
       "      <td>green</td>\n",
       "      <td>good</td>\n",
       "      <td>2018-05-07</td>\n",
       "      <td>8.0</td>\n",
       "      <td>30.0</td>\n",
       "    </tr>\n",
       "    <tr>\n",
       "      <th>7</th>\n",
       "      <td>08</td>\n",
       "      <td>blue</td>\n",
       "      <td>NaN</td>\n",
       "      <td>NaT</td>\n",
       "      <td>NaN</td>\n",
       "      <td>NaN</td>\n",
       "    </tr>\n",
       "    <tr>\n",
       "      <th>8</th>\n",
       "      <td>09</td>\n",
       "      <td>blue</td>\n",
       "      <td>bad</td>\n",
       "      <td>2018-01-27</td>\n",
       "      <td>4.0</td>\n",
       "      <td>10.0</td>\n",
       "    </tr>\n",
       "    <tr>\n",
       "      <th>9</th>\n",
       "      <td>10</td>\n",
       "      <td>green</td>\n",
       "      <td>good</td>\n",
       "      <td>2018-09-01</td>\n",
       "      <td>10.0</td>\n",
       "      <td>20.0</td>\n",
       "    </tr>\n",
       "  </tbody>\n",
       "</table>\n",
       "</div>"
      ],
      "text/plain": [
       "   id  color quality   sales_dt  unit  price\n",
       "0  01   blue    good 2018-09-01  10.0   30.0\n",
       "1  02  green    good 2018-01-27   5.0   20.0\n",
       "2  03    red     NaN        NaT   NaN    NaN\n",
       "3  04    red     bad 2018-01-27   2.0    5.0\n",
       "4  05    red    good 2018-09-01  10.0   20.0\n",
       "5  06   blue     bad 2018-05-06   6.0   10.0\n",
       "6  07  green    good 2018-05-07   8.0   30.0\n",
       "7  08   blue     NaN        NaT   NaN    NaN\n",
       "8  09   blue     bad 2018-01-27   4.0   10.0\n",
       "9  10  green    good 2018-09-01  10.0   20.0"
      ]
     },
     "execution_count": 2,
     "metadata": {},
     "output_type": "execute_result"
    }
   ],
   "source": [
    "df = pd.read_excel(r'../data/data.xlsx',converters={'id':str})  # Normally for numeric-like ID field, read in as string\n",
    "print('id data type:', df.id.dtypes)\n",
    "df"
   ]
  },
  {
   "cell_type": "markdown",
   "metadata": {},
   "source": [
    "### Before aggregation\n",
    "- check if your data has NAs and understand how the aggregation functions treat NAs"
   ]
  },
  {
   "cell_type": "code",
   "execution_count": 3,
   "metadata": {},
   "outputs": [
    {
     "data": {
      "text/plain": [
       "8"
      ]
     },
     "execution_count": 3,
     "metadata": {},
     "output_type": "execute_result"
    }
   ],
   "source": [
    "df.quality.count()   # Default pd.Series.count() will NOT count NA rows"
   ]
  },
  {
   "cell_type": "code",
   "execution_count": 4,
   "metadata": {
    "scrolled": true
   },
   "outputs": [
    {
     "data": {
      "text/plain": [
       "4"
      ]
     },
     "execution_count": 4,
     "metadata": {},
     "output_type": "execute_result"
    }
   ],
   "source": [
    "df.price.nunique()   # Default pd.Series.nunique() will NOT count NA rows"
   ]
  },
  {
   "cell_type": "code",
   "execution_count": 5,
   "metadata": {},
   "outputs": [
    {
     "name": "stdout",
     "output_type": "stream",
     "text": [
      "145.0\n",
      "145.0\n",
      "145.0\n"
     ]
    }
   ],
   "source": [
    "print(df.price.sum())        # Default pd.Series.sum() will treat NAs as 0s\n",
    "print(np.sum(df.price))      # same for np.sum()\n",
    "print(np.nansum(df.price))   # I prefer np.nansum to explicitly ignore NAs"
   ]
  },
  {
   "cell_type": "code",
   "execution_count": 17,
   "metadata": {},
   "outputs": [
    {
     "name": "stderr",
     "output_type": "stream",
     "text": [
      "C:\\Users\\ywang\\AppData\\Local\\Continuum\\anaconda3\\lib\\site-packages\\pandas\\core\\series.py:696: FutureWarning: \n",
      "Passing list-likes to .loc or [] with any missing label will raise\n",
      "KeyError in the future, you can use .reindex() as an alternative.\n",
      "\n",
      "See the documentation here:\n",
      "http://pandas.pydata.org/pandas-docs/stable/indexing.html#deprecate-loc-reindex-listlike\n",
      "  return self.loc[key]\n"
     ]
    },
    {
     "data": {
      "text/html": [
       "<div>\n",
       "<style scoped>\n",
       "    .dataframe tbody tr th:only-of-type {\n",
       "        vertical-align: middle;\n",
       "    }\n",
       "\n",
       "    .dataframe tbody tr th {\n",
       "        vertical-align: top;\n",
       "    }\n",
       "\n",
       "    .dataframe thead th {\n",
       "        text-align: right;\n",
       "    }\n",
       "</style>\n",
       "<table border=\"1\" class=\"dataframe\">\n",
       "  <thead>\n",
       "    <tr style=\"text-align: right;\">\n",
       "      <th></th>\n",
       "      <th>color_</th>\n",
       "      <th>id_count</th>\n",
       "      <th>test_count</th>\n",
       "      <th>sales_dt_min</th>\n",
       "      <th>sales_dt_max</th>\n",
       "      <th>unit_nansum</th>\n",
       "      <th>unit_&lt;lambda&gt;</th>\n",
       "      <th>price_nunique</th>\n",
       "      <th>price_&lt;lambda&gt;</th>\n",
       "    </tr>\n",
       "  </thead>\n",
       "  <tbody>\n",
       "    <tr>\n",
       "      <th>0</th>\n",
       "      <td>blue</td>\n",
       "      <td>4</td>\n",
       "      <td>3</td>\n",
       "      <td>2018-01-27</td>\n",
       "      <td>2018-09-01</td>\n",
       "      <td>20.0</td>\n",
       "      <td>10.0</td>\n",
       "      <td>2.0</td>\n",
       "      <td>1.0</td>\n",
       "    </tr>\n",
       "    <tr>\n",
       "      <th>1</th>\n",
       "      <td>green</td>\n",
       "      <td>3</td>\n",
       "      <td>3</td>\n",
       "      <td>2018-01-27</td>\n",
       "      <td>2018-09-01</td>\n",
       "      <td>23.0</td>\n",
       "      <td>23.0</td>\n",
       "      <td>2.0</td>\n",
       "      <td>3.0</td>\n",
       "    </tr>\n",
       "    <tr>\n",
       "      <th>2</th>\n",
       "      <td>red</td>\n",
       "      <td>3</td>\n",
       "      <td>2</td>\n",
       "      <td>2018-01-27</td>\n",
       "      <td>2018-09-01</td>\n",
       "      <td>12.0</td>\n",
       "      <td>10.0</td>\n",
       "      <td>2.0</td>\n",
       "      <td>1.0</td>\n",
       "    </tr>\n",
       "  </tbody>\n",
       "</table>\n",
       "</div>"
      ],
      "text/plain": [
       "  color_  id_count  test_count sales_dt_min sales_dt_max  unit_nansum  \\\n",
       "0   blue         4           3   2018-01-27   2018-09-01         20.0   \n",
       "1  green         3           3   2018-01-27   2018-09-01         23.0   \n",
       "2    red         3           2   2018-01-27   2018-09-01         12.0   \n",
       "\n",
       "   unit_<lambda>  price_nunique  price_<lambda>  \n",
       "0           10.0            2.0             1.0  \n",
       "1           23.0            2.0             3.0  \n",
       "2           10.0            2.0             1.0  "
      ]
     },
     "execution_count": 17,
     "metadata": {},
     "output_type": "execute_result"
    }
   ],
   "source": [
    "summary = df.groupby('color',as_index=False).agg({\n",
    "    'id':'count',                                                          # how many records \n",
    "    'quality':'count',                                                     # how many records where quality \n",
    "    'sales_dt':['min','max'],                                              # first and last sales date\n",
    "    \n",
    "    'unit' :[np.nansum,                                                     # Total Unit\n",
    "             lambda x: df.loc[df.quality=='good','unit'][x.index].sum()],   # Units where quality=='good'\n",
    "    \n",
    "    'price':[pd.Series.nunique,         # unique prices ignoring NAs\n",
    "             lambda x: (x>=15).sum()]   # count of prices >= 15\n",
    "}).rename(columns={'quality':'test'})\n",
    "summary.columns = [level1+'_'+level2 for (level1, level2) in summary.columns.values]\n",
    "summary"
   ]
  },
  {
   "cell_type": "code",
   "execution_count": null,
   "metadata": {},
   "outputs": [],
   "source": []
  }
 ],
 "metadata": {
  "kernelspec": {
   "display_name": "Python 3",
   "language": "python",
   "name": "python3"
  },
  "language_info": {
   "codemirror_mode": {
    "name": "ipython",
    "version": 3
   },
   "file_extension": ".py",
   "mimetype": "text/x-python",
   "name": "python",
   "nbconvert_exporter": "python",
   "pygments_lexer": "ipython3",
   "version": "3.6.4"
  }
 },
 "nbformat": 4,
 "nbformat_minor": 2
}
